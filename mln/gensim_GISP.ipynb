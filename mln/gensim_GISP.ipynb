{
 "cells": [
  {
   "cell_type": "markdown",
   "metadata": {},
   "source": [
    "**Корректность проверена на Python 3.6:**\n",
    "+ gensim 3.4.0"
   ]
  },
  {
   "cell_type": "markdown",
   "metadata": {},
   "source": [
    "# Пример использования библиотеки gensim для тематического моделирования\n",
    "## Данная модель основана на байесовских методов машинного обучения"
   ]
  },
  {
   "cell_type": "code",
   "execution_count": 53,
   "metadata": {},
   "outputs": [],
   "source": [
    "from gensim import corpora, models\n",
    "import re"
   ]
  },
  {
   "cell_type": "code",
   "execution_count": 12,
   "metadata": {},
   "outputs": [],
   "source": [
    "# Импортируем данные в формте UCI Bag of Words\n",
    "data = corpora.UciCorpus(\"docword.xkcd.uci\", \"vocab.xkcd.uci\")\n",
    "dictionary = data.create_dictionary()"
   ]
  },
  {
   "cell_type": "code",
   "execution_count": 62,
   "metadata": {},
   "outputs": [
    {
     "name": "stdout",
     "output_type": "stream",
     "text": [
      "Wall time: 140 ms\n"
     ]
    }
   ],
   "source": [
    "# обучение модель\n",
    "num_topics = 2\n",
    "%time ldamodel = models.ldamodel.LdaModel(data, id2word=dictionary, num_topics=num_topics, passes=20, alpha=1.25, eta=1.25)"
   ]
  },
  {
   "cell_type": "code",
   "execution_count": 21,
   "metadata": {},
   "outputs": [],
   "source": [
    "# Сохранение модели\n",
    "ldamodel.save(\"ldamodel_xkcd\")"
   ]
  },
  {
   "cell_type": "code",
   "execution_count": 22,
   "metadata": {},
   "outputs": [],
   "source": [
    "# Загрузка модели\n",
    "ldamodel = models.ldamodel.LdaModel.load(\"ldamodel_xkcd\")"
   ]
  },
  {
   "cell_type": "code",
   "execution_count": 77,
   "metadata": {},
   "outputs": [
    {
     "name": "stdout",
     "output_type": "stream",
     "text": [
      "Topic 0 : 0.181*\"b'industry'\" + 0.114*\"b'distance'\" + 0.097*\"b'co-financing'\"\n",
      "Topic 1 : 0.257*\"b'subsidy'\" + 0.103*\"b'loan'\" + 0.068*\"b'support'\"\n"
     ]
    }
   ],
   "source": [
    "# выводим топы слов\n",
    "num_words = 3\n",
    "for t, top_words in ldamodel.print_topics(num_topics=2, num_words=num_words):\n",
    "    print(\"Topic\", t, \":\", top_words)"
   ]
  },
  {
   "cell_type": "code",
   "execution_count": 25,
   "metadata": {},
   "outputs": [
    {
     "name": "stdout",
     "output_type": "stream",
     "text": [
      "6.658405631341573\n"
     ]
    }
   ],
   "source": [
    "# Вычисляем логарифм перплексии и немного преобразуем, чтобы привести к общепринятому виду\n",
    "perplexity = ldamodel.log_perplexity(list(data))\n",
    "print(2**(-perplexity))"
   ]
  },
  {
   "cell_type": "code",
   "execution_count": 30,
   "metadata": {},
   "outputs": [
    {
     "data": {
      "text/plain": [
       "2.928036513941492"
      ]
     },
     "execution_count": 30,
     "metadata": {},
     "output_type": "execute_result"
    }
   ],
   "source": [
    "sum_words = 150\n",
    "perp = ldamodel.bound(data)\n",
    "2**(-perp/float(sum_words))"
   ]
  },
  {
   "cell_type": "code",
   "execution_count": 99,
   "metadata": {},
   "outputs": [
    {
     "data": {
      "text/plain": [
       "[(0, 0.24752639), (1, 0.7524736)]"
      ]
     },
     "execution_count": 99,
     "metadata": {},
     "output_type": "execute_result"
    }
   ],
   "source": [
    "# Получение распределения тем для конкретного документа\n",
    "# Индекс + 1 списка data соответствует id меры поддержки (нумерация мер с 1 до последней меры)\n",
    "doc = list(data)[0]\n",
    "ldamodel.get_document_topics(doc)"
   ]
  },
  {
   "cell_type": "code",
   "execution_count": 90,
   "metadata": {},
   "outputs": [],
   "source": [
    "# Получение топовых слов по теме\n",
    "# Индекс списка соответствует тематике\n",
    "count_of_themes = 6\n",
    "words_of_theme = []\n",
    "for j in range(num_topics):\n",
    "    df = [re.split('[^a-z]', sentence.lower().replace('\\n', '')) for sentence in \\\n",
    "         ldamodel.print_topics(num_topics=num_topics, num_words=3)[j][1].split('+')]\n",
    "    words_of_theme.append(list(set([word for sen in df for word in sen if len(word) > 2])))\n"
   ]
  },
  {
   "cell_type": "markdown",
   "metadata": {},
   "source": [
    "### Получение запроса в текстовом формате"
   ]
  },
  {
   "cell_type": "code",
   "execution_count": 68,
   "metadata": {},
   "outputs": [],
   "source": [
    "text_info = 'Subsidy finacial support'\n",
    "data_list = text_info.split()\n",
    "data_list_lower = []\n",
    "for word in data_list:\n",
    "    lw = word.lower().replace('\\n', '')\n",
    "    data_list_lower.append(lw)\n",
    "words_user = list(set(data_list_lower))"
   ]
  },
  {
   "cell_type": "code",
   "execution_count": 97,
   "metadata": {},
   "outputs": [],
   "source": [
    "list_of_themes = []\n",
    "for i in range(len(words_user)):\n",
    "    for j in range(len(words_of_theme)):\n",
    "        for y in range(num_words):\n",
    "            if words_user[i] == words_of_theme[j][y]:\n",
    "                if ldamodel.get_document_topics(doc)[0][1] > ldamodel.get_document_topics(doc)[1][1]:\n",
    "                     list_of_themes.append(ldamodel.get_document_topics(doc)[0])\n",
    "                else:\n",
    "                    list_of_themes.append(ldamodel.get_document_topics(doc)[1])\n"
   ]
  },
  {
   "cell_type": "code",
   "execution_count": 98,
   "metadata": {},
   "outputs": [
    {
     "data": {
      "text/plain": [
       "[(1, 0.75247496), (1, 0.75250614)]"
      ]
     },
     "execution_count": 98,
     "metadata": {},
     "output_type": "execute_result"
    }
   ],
   "source": [
    "list_of_themes"
   ]
  },
  {
   "cell_type": "code",
   "execution_count": null,
   "metadata": {},
   "outputs": [],
   "source": []
  }
 ],
 "metadata": {
  "kernelspec": {
   "display_name": "Python 3",
   "language": "python",
   "name": "python3"
  },
  "language_info": {
   "codemirror_mode": {
    "name": "ipython",
    "version": 3
   },
   "file_extension": ".py",
   "mimetype": "text/x-python",
   "name": "python",
   "nbconvert_exporter": "python",
   "pygments_lexer": "ipython3",
   "version": "3.7.4"
  }
 },
 "nbformat": 4,
 "nbformat_minor": 1
}
